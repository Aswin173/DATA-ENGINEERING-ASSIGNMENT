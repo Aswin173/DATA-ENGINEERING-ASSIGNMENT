{
 "cells": [
  {
   "cell_type": "markdown",
   "id": "894d434f",
   "metadata": {},
   "source": [
    "# Data Engineering – Initial Assessment"
   ]
  },
  {
   "cell_type": "markdown",
   "id": "9444c043",
   "metadata": {},
   "source": [
    "Name : N.S.Aswin - \n",
    "Dept : CSE"
   ]
  },
  {
   "cell_type": "markdown",
   "id": "f2663963",
   "metadata": {},
   "source": [
    "Question 1"
   ]
  },
  {
   "cell_type": "code",
   "execution_count": 1,
   "id": "c808d3fc",
   "metadata": {},
   "outputs": [
    {
     "name": "stdout",
     "output_type": "stream",
     "text": [
      "Type in: New to Python or choosing between Python 2 and Python 3? Read Python 2 or Python 3.\n",
      "[('New', 1), ('Python', 5), ('Read', 1), ('and', 1), ('between', 1), ('choosing', 1), ('or', 2), ('to', 1)]\n",
      "New 1\n",
      "Python 5\n",
      "Read 1\n",
      "and 1\n",
      "between 1\n",
      "choosing 1\n",
      "or 2\n",
      "to 1\n"
     ]
    }
   ],
   "source": [
    "import operator\n",
    "\n",
    "text = input(\"Type in: \")\n",
    "\n",
    "freq = {}\n",
    "\n",
    "for i in text.split(' '):\n",
    "    if i.isalpha():\n",
    "        if i not in freq:\n",
    "            freq[i] = 1\n",
    "        elif i in freq:\n",
    "            freq[i] = freq[i] + 1\n",
    "    else:\n",
    "        pass\n",
    "\n",
    "sorted_freq = sorted(freq.items(), key = operator.itemgetter(0))\n",
    "print(sorted_freq)\n",
    "\n",
    "for i in sorted_freq:\n",
    "    print(i[0], i[1])"
   ]
  },
  {
   "cell_type": "markdown",
   "id": "2febd419",
   "metadata": {},
   "source": [
    "Questions 2"
   ]
  },
  {
   "cell_type": "code",
   "execution_count": 2,
   "id": "cb01d5ee",
   "metadata": {},
   "outputs": [
    {
     "name": "stdout",
     "output_type": "stream",
     "text": [
      "Type the Password: ABd1234@1,a F1#,2w3E*,2We3345\n",
      "ABd1234@1\n"
     ]
    }
   ],
   "source": [
    "import re\n",
    "\n",
    "pswd = input(\"Type the Password: \")\n",
    "pswd = pswd.split(\",\")\n",
    "\n",
    "accepted_pass = []\n",
    "for i in pswd:\n",
    "    \n",
    "    if len(i) < 6 or len(i) > 12:\n",
    "        continue\n",
    "\n",
    "    elif not re.search(\"([a-z])+\", i):\n",
    "        continue\n",
    "\n",
    "    elif not re.search(\"([A-Z])+\", i):\n",
    "        continue\n",
    "\n",
    "    elif not re.search(\"([0-9])+\", i):\n",
    "        continue\n",
    "\n",
    "    elif not re.search(\"([!@$%^&])+\", i):\n",
    "        continue\n",
    "\n",
    "    else:\n",
    "        accepted_pass.append(i)\n",
    "\n",
    "print((\" \").join(accepted_pass))"
   ]
  },
  {
   "cell_type": "markdown",
   "id": "e0a2dcb5",
   "metadata": {},
   "source": [
    "Question 3"
   ]
  },
  {
   "cell_type": "code",
   "execution_count": 3,
   "id": "4b0c66a4",
   "metadata": {},
   "outputs": [
    {
     "name": "stdout",
     "output_type": "stream",
     "text": [
      "Input the number of rows: 3\n",
      "Input the number of columns: 5\n",
      "[[0, 0, 0, 0, 0], [0, 1, 2, 3, 4], [0, 2, 4, 6, 8]]\n"
     ]
    }
   ],
   "source": [
    "row_num = int(input(\"Input the number of rows: \"))\n",
    "col_num = int(input(\"Input the number of columns: \"))\n",
    "TwoD_list = [[0 for col in range(col_num)] for row in range(row_num)]\n",
    "\n",
    "for row in range(row_num):\n",
    "    for col in range(col_num):\n",
    "        TwoD_list[row][col]= row*col\n",
    "\n",
    "print(TwoD_list)"
   ]
  },
  {
   "cell_type": "markdown",
   "id": "e5cd1f42",
   "metadata": {},
   "source": [
    "Question 4"
   ]
  },
  {
   "cell_type": "code",
   "execution_count": 4,
   "id": "381fcb72",
   "metadata": {},
   "outputs": [
    {
     "name": "stdout",
     "output_type": "stream",
     "text": [
      "Enter the string : learn programming at include help\n",
      "Enter k  (value for accepting string) : 6\n",
      "All the words which are greater than given length  6 are  ['programming', 'include']\n"
     ]
    }
   ],
   "source": [
    "Mystr =  input('Enter the string : ')\n",
    "k = int(input('Enter k  (value for accepting string) : '))\n",
    "largerStrings = []\n",
    "\n",
    "words = Mystr.split(\" \")\n",
    "for word in words:\n",
    "    if len(word) > k:\n",
    "        largerStrings.append(word)\n",
    "\n",
    "print(\"All the words which are greater than given length \", k, \"are \", largerStrings)"
   ]
  },
  {
   "cell_type": "markdown",
   "id": "c2b253c7",
   "metadata": {},
   "source": [
    "Question 5"
   ]
  },
  {
   "cell_type": "code",
   "execution_count": 5,
   "id": "b2254500",
   "metadata": {},
   "outputs": [
    {
     "name": "stdout",
     "output_type": "stream",
     "text": [
      "helloWorld\n"
     ]
    }
   ],
   "source": [
    "from re import sub\n",
    "\n",
    "def camel_case(s):\n",
    "  mystr = sub(r\"(_|-)+\", \" \", s).title().replace(\" \", \"\")\n",
    "  return ''.join([s[0].lower(), mystr[1:]])\n",
    "print(camel_case('Hello world'))"
   ]
  },
  {
   "cell_type": "markdown",
   "id": "4897f1de",
   "metadata": {},
   "source": [
    "Question 6"
   ]
  },
  {
   "cell_type": "code",
   "execution_count": 6,
   "id": "913566fa",
   "metadata": {},
   "outputs": [
    {
     "name": "stdout",
     "output_type": "stream",
     "text": [
      "Enter first string : learn programming at includehelp\n",
      "Enter second string : learn python programming language\n",
      "All uncommon words from both the string are  ['at', 'includehelp', 'python', 'language']\n"
     ]
    }
   ],
   "source": [
    "str1 = input('Enter first string : ')\n",
    "str2 = input('Enter second string : ')\n",
    "\n",
    "count = {}\n",
    "for word in str1.split():\n",
    "    count[word] = count.get(word, 0) + 1\n",
    "for word in str2.split():\n",
    "    count[word] = count.get(word, 0) + 1\n",
    "  \n",
    "uncommonWords =  [word for word in count if count[word] == 1]\n",
    "\n",
    "print(\"All uncommon words from both the string are \", uncommonWords)"
   ]
  },
  {
   "cell_type": "markdown",
   "id": "1b35b5cb",
   "metadata": {},
   "source": [
    "Question 7"
   ]
  },
  {
   "cell_type": "code",
   "execution_count": 7,
   "id": "5257266d",
   "metadata": {},
   "outputs": [
    {
     "name": "stdout",
     "output_type": "stream",
     "text": [
      "5 4 3 2 1 1 2 3 4 5 \n",
      " 5 4 3 2   2 3 4 5 \n",
      "  5 4 3     3 4 5 \n",
      "   5 4       4 5 \n",
      "    5         5 \n"
     ]
    }
   ],
   "source": [
    "n=5\n",
    "for i in range(0,n):\n",
    "    print(\" \"*i,end='')\n",
    "    for j in range(n,i,-1):\n",
    "        print(j,end=' ')\n",
    "    print(\" \"*(i+i),end='')\n",
    "    for k in range(i+1,n+1):\n",
    "        print(k,end=' ')\n",
    "    print(\"\\n\",end='')"
   ]
  },
  {
   "cell_type": "markdown",
   "id": "f1078977",
   "metadata": {},
   "source": [
    "Question 8"
   ]
  },
  {
   "cell_type": "code",
   "execution_count": 9,
   "id": "41f39ce3",
   "metadata": {},
   "outputs": [
    {
     "name": "stdout",
     "output_type": "stream",
     "text": [
      "1 * 2 * 3 * 4 \n",
      "\n",
      "1 * 2 * 3 \n",
      "\n",
      "1 * 2 \n",
      "\n",
      "1 \n",
      "\n"
     ]
    }
   ],
   "source": [
    "row = 4\n",
    "for i in range(0, row):\n",
    "    c = 1\n",
    "    print(c, end=' ')\n",
    "    for j in range(row - i - 1, 0, -1):\n",
    "        print('*', end=' ')\n",
    "        c = c + 1\n",
    "        print(c, end=' ')\n",
    "    print('\\n')"
   ]
  },
  {
   "cell_type": "markdown",
   "id": "40169a44",
   "metadata": {},
   "source": [
    "Question 9"
   ]
  },
  {
   "cell_type": "code",
   "execution_count": 10,
   "id": "639e0eec",
   "metadata": {},
   "outputs": [
    {
     "name": "stdout",
     "output_type": "stream",
     "text": [
      "* \n",
      "* * \n",
      "* * * \n",
      "* * * * \n",
      "* * * * * \n",
      "* * * * * * \n",
      "\n",
      "\n",
      "* * * * * * \n",
      "* * * * * \n",
      "* * * * \n",
      "* * * \n",
      "* * \n",
      "* \n"
     ]
    }
   ],
   "source": [
    "\n",
    "for i in range(6):\n",
    "    for j in range(i+1):\n",
    "        print(\"* \", end=\"\")\n",
    "    print()\n",
    "print(\"\\n\")\n",
    "for i in range(6):\n",
    "    for j in range(i, 6):\n",
    "        print(\"* \", end=\"\")\n",
    "    print()"
   ]
  }
 ],
 "metadata": {
  "kernelspec": {
   "display_name": "Python 3 (ipykernel)",
   "language": "python",
   "name": "python3"
  },
  "language_info": {
   "codemirror_mode": {
    "name": "ipython",
    "version": 3
   },
   "file_extension": ".py",
   "mimetype": "text/x-python",
   "name": "python",
   "nbconvert_exporter": "python",
   "pygments_lexer": "ipython3",
   "version": "3.9.7"
  }
 },
 "nbformat": 4,
 "nbformat_minor": 5
}
